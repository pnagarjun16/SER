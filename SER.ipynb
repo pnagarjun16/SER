{
  "cells": [
    {
      "cell_type": "markdown",
      "metadata": {},
      "source": [
        "<h1>SER - Speech Emotion Recognition</h1>\n",
        "<h2 style=\"color:red\">-Nagarjuna Padala</h2>\n",
        "<h2 style=\"color:red\">-Trinadh Kumar Atmuri</h2>"
      ]
    },
    {
      "cell_type": "markdown",
      "metadata": {},
      "source": [
        "<p>We are utilizing a CNN model to conduct Speech Emotion Recognition (SER) on the following datasets provided</p>\n",
        "<ul>\n",
        "    <li>RAVDESS - Ryerson Audio-Visual Database of Emotional Speech and Song</li>\n",
        "    <li>Crema-D - Crowd-sourced Emotional Mutimodal Actors Dataset</li>\n",
        "    <li>SAVEE - Surrey Audio-Visual Expressed Emotion</li>\n",
        "    <li>TESS - Toronto emotional speech set</li>\n",
        "<ul>"
      ]
    },
    {
      "attachments": {},
      "cell_type": "markdown",
      "metadata": {},
      "source": [
        "<p> We are utilizing the following libraries<p>\n",
        "<ul>\n",
        "    <li>os - provides operating system dependent functionality.</li>\n",
        "    <li>pandas - generate summary statistics of numerical data in a DataFrame</li>\n",
        "    <li>numpy - for numerical computing and array manipulation</li>\n",
        "    <li>librosa - package for audio analysis</li>\n",
        "    <li>seaborn - visualization library based on Matplotlib</li>\n",
        "    <li>focal_loss - tool for implementing the Focal Loss function</li>\n",
        "    <li>tensorflow - for machine learning and deep learning tasks</li>\n",
        "    <li>warnings - manages warning messages</li>\n",
        "    <li>sys - used to access to system-specific parameters</li>\n",
        "    <li>matplotlib - for graph visualizations</li>\n",
        "    <li>Ipython - displaying rich media representations</li>\n",
        "    <li>sklearn - for data analysis and modeling</li>\n",
        "    <li>keras - rapid prototyping of deep learning models</li>\n",
        "</ul>"
      ]
    },
    {
      "cell_type": "markdown",
      "metadata": {},
      "source": [
        "<p>Most of libraries are available with conda or python version if you face any issuses please install those modules</p>\n",
        "<p>Below we are installing which are not installed by default</p>"
      ]
    },
    {
      "cell_type": "code",
      "execution_count": 18,
      "metadata": {},
      "outputs": [
        {
          "name": "stdout",
          "output_type": "stream",
          "text": [
            "Requirement already satisfied: pip in /Library/Frameworks/Python.framework/Versions/3.10/lib/python3.10/site-packages (23.3.1)\n"
          ]
        }
      ],
      "source": [
        "!python3 -m pip install --upgrade pip"
      ]
    },
    {
      "cell_type": "code",
      "execution_count": 19,
      "metadata": {},
      "outputs": [
        {
          "name": "stdout",
          "output_type": "stream",
          "text": [
            "Requirement already satisfied: librosa in /Library/Frameworks/Python.framework/Versions/3.10/lib/python3.10/site-packages (0.10.1)\n",
            "Requirement already satisfied: audioread>=2.1.9 in /Library/Frameworks/Python.framework/Versions/3.10/lib/python3.10/site-packages (from librosa) (3.0.1)\n",
            "Requirement already satisfied: numpy!=1.22.0,!=1.22.1,!=1.22.2,>=1.20.3 in /Library/Frameworks/Python.framework/Versions/3.10/lib/python3.10/site-packages (from librosa) (1.24.3)\n",
            "Requirement already satisfied: scipy>=1.2.0 in /Library/Frameworks/Python.framework/Versions/3.10/lib/python3.10/site-packages (from librosa) (1.11.4)\n",
            "Requirement already satisfied: scikit-learn>=0.20.0 in /Library/Frameworks/Python.framework/Versions/3.10/lib/python3.10/site-packages (from librosa) (1.3.2)\n",
            "Requirement already satisfied: joblib>=0.14 in /Library/Frameworks/Python.framework/Versions/3.10/lib/python3.10/site-packages (from librosa) (1.3.2)\n",
            "Requirement already satisfied: decorator>=4.3.0 in /Users/nagarjuna/Library/Python/3.10/lib/python/site-packages (from librosa) (5.1.1)\n",
            "Requirement already satisfied: numba>=0.51.0 in /Library/Frameworks/Python.framework/Versions/3.10/lib/python3.10/site-packages (from librosa) (0.58.1)\n",
            "Requirement already satisfied: soundfile>=0.12.1 in /Library/Frameworks/Python.framework/Versions/3.10/lib/python3.10/site-packages (from librosa) (0.12.1)\n",
            "Requirement already satisfied: pooch>=1.0 in /Library/Frameworks/Python.framework/Versions/3.10/lib/python3.10/site-packages (from librosa) (1.8.0)\n",
            "Requirement already satisfied: soxr>=0.3.2 in /Library/Frameworks/Python.framework/Versions/3.10/lib/python3.10/site-packages (from librosa) (0.3.7)\n",
            "Requirement already satisfied: typing-extensions>=4.1.1 in /Library/Frameworks/Python.framework/Versions/3.10/lib/python3.10/site-packages (from librosa) (4.5.0)\n",
            "Requirement already satisfied: lazy-loader>=0.1 in /Library/Frameworks/Python.framework/Versions/3.10/lib/python3.10/site-packages (from librosa) (0.3)\n",
            "Requirement already satisfied: msgpack>=1.0 in /Library/Frameworks/Python.framework/Versions/3.10/lib/python3.10/site-packages (from librosa) (1.0.7)\n",
            "Requirement already satisfied: llvmlite<0.42,>=0.41.0dev0 in /Library/Frameworks/Python.framework/Versions/3.10/lib/python3.10/site-packages (from numba>=0.51.0->librosa) (0.41.1)\n",
            "Requirement already satisfied: platformdirs>=2.5.0 in /Users/nagarjuna/Library/Python/3.10/lib/python/site-packages (from pooch>=1.0->librosa) (4.0.0)\n",
            "Requirement already satisfied: packaging>=20.0 in /Library/Frameworks/Python.framework/Versions/3.10/lib/python3.10/site-packages (from pooch>=1.0->librosa) (23.1)\n",
            "Requirement already satisfied: requests>=2.19.0 in /Library/Frameworks/Python.framework/Versions/3.10/lib/python3.10/site-packages (from pooch>=1.0->librosa) (2.31.0)\n",
            "Requirement already satisfied: threadpoolctl>=2.0.0 in /Library/Frameworks/Python.framework/Versions/3.10/lib/python3.10/site-packages (from scikit-learn>=0.20.0->librosa) (3.2.0)\n",
            "Requirement already satisfied: cffi>=1.0 in /Library/Frameworks/Python.framework/Versions/3.10/lib/python3.10/site-packages (from soundfile>=0.12.1->librosa) (1.16.0)\n",
            "Requirement already satisfied: pycparser in /Library/Frameworks/Python.framework/Versions/3.10/lib/python3.10/site-packages (from cffi>=1.0->soundfile>=0.12.1->librosa) (2.21)\n",
            "Requirement already satisfied: charset-normalizer<4,>=2 in /Library/Frameworks/Python.framework/Versions/3.10/lib/python3.10/site-packages (from requests>=2.19.0->pooch>=1.0->librosa) (3.2.0)\n",
            "Requirement already satisfied: idna<4,>=2.5 in /Library/Frameworks/Python.framework/Versions/3.10/lib/python3.10/site-packages (from requests>=2.19.0->pooch>=1.0->librosa) (3.4)\n",
            "Requirement already satisfied: urllib3<3,>=1.21.1 in /Library/Frameworks/Python.framework/Versions/3.10/lib/python3.10/site-packages (from requests>=2.19.0->pooch>=1.0->librosa) (1.26.16)\n",
            "Requirement already satisfied: certifi>=2017.4.17 in /Library/Frameworks/Python.framework/Versions/3.10/lib/python3.10/site-packages (from requests>=2.19.0->pooch>=1.0->librosa) (2023.7.22)\n",
            "Note: you may need to restart the kernel to use updated packages.\n",
            "Requirement already satisfied: tensorflow in /Library/Frameworks/Python.framework/Versions/3.10/lib/python3.10/site-packages (2.15.0)\n",
            "Requirement already satisfied: tensorflow-macos==2.15.0 in /Library/Frameworks/Python.framework/Versions/3.10/lib/python3.10/site-packages (from tensorflow) (2.15.0)\n",
            "Requirement already satisfied: absl-py>=1.0.0 in /Library/Frameworks/Python.framework/Versions/3.10/lib/python3.10/site-packages (from tensorflow-macos==2.15.0->tensorflow) (1.4.0)\n",
            "Requirement already satisfied: astunparse>=1.6.0 in /Library/Frameworks/Python.framework/Versions/3.10/lib/python3.10/site-packages (from tensorflow-macos==2.15.0->tensorflow) (1.6.3)\n",
            "Requirement already satisfied: flatbuffers>=23.5.26 in /Library/Frameworks/Python.framework/Versions/3.10/lib/python3.10/site-packages (from tensorflow-macos==2.15.0->tensorflow) (23.5.26)\n",
            "Requirement already satisfied: gast!=0.5.0,!=0.5.1,!=0.5.2,>=0.2.1 in /Library/Frameworks/Python.framework/Versions/3.10/lib/python3.10/site-packages (from tensorflow-macos==2.15.0->tensorflow) (0.4.0)\n",
            "Requirement already satisfied: google-pasta>=0.1.1 in /Library/Frameworks/Python.framework/Versions/3.10/lib/python3.10/site-packages (from tensorflow-macos==2.15.0->tensorflow) (0.2.0)\n",
            "Requirement already satisfied: h5py>=2.9.0 in /Library/Frameworks/Python.framework/Versions/3.10/lib/python3.10/site-packages (from tensorflow-macos==2.15.0->tensorflow) (3.9.0)\n",
            "Requirement already satisfied: libclang>=13.0.0 in /Library/Frameworks/Python.framework/Versions/3.10/lib/python3.10/site-packages (from tensorflow-macos==2.15.0->tensorflow) (16.0.6)\n",
            "Requirement already satisfied: ml-dtypes~=0.2.0 in /Library/Frameworks/Python.framework/Versions/3.10/lib/python3.10/site-packages (from tensorflow-macos==2.15.0->tensorflow) (0.2.0)\n",
            "Requirement already satisfied: numpy<2.0.0,>=1.23.5 in /Library/Frameworks/Python.framework/Versions/3.10/lib/python3.10/site-packages (from tensorflow-macos==2.15.0->tensorflow) (1.24.3)\n",
            "Requirement already satisfied: opt-einsum>=2.3.2 in /Library/Frameworks/Python.framework/Versions/3.10/lib/python3.10/site-packages (from tensorflow-macos==2.15.0->tensorflow) (3.3.0)\n",
            "Requirement already satisfied: packaging in /Library/Frameworks/Python.framework/Versions/3.10/lib/python3.10/site-packages (from tensorflow-macos==2.15.0->tensorflow) (23.1)\n",
            "Requirement already satisfied: protobuf!=4.21.0,!=4.21.1,!=4.21.2,!=4.21.3,!=4.21.4,!=4.21.5,<5.0.0dev,>=3.20.3 in /Library/Frameworks/Python.framework/Versions/3.10/lib/python3.10/site-packages (from tensorflow-macos==2.15.0->tensorflow) (4.23.4)\n",
            "Requirement already satisfied: setuptools in /Library/Frameworks/Python.framework/Versions/3.10/lib/python3.10/site-packages (from tensorflow-macos==2.15.0->tensorflow) (63.2.0)\n",
            "Requirement already satisfied: six>=1.12.0 in /Library/Frameworks/Python.framework/Versions/3.10/lib/python3.10/site-packages (from tensorflow-macos==2.15.0->tensorflow) (1.16.0)\n",
            "Requirement already satisfied: termcolor>=1.1.0 in /Library/Frameworks/Python.framework/Versions/3.10/lib/python3.10/site-packages (from tensorflow-macos==2.15.0->tensorflow) (2.3.0)\n",
            "Requirement already satisfied: typing-extensions>=3.6.6 in /Library/Frameworks/Python.framework/Versions/3.10/lib/python3.10/site-packages (from tensorflow-macos==2.15.0->tensorflow) (4.5.0)\n",
            "Requirement already satisfied: wrapt<1.15,>=1.11.0 in /Library/Frameworks/Python.framework/Versions/3.10/lib/python3.10/site-packages (from tensorflow-macos==2.15.0->tensorflow) (1.14.1)\n",
            "Requirement already satisfied: tensorflow-io-gcs-filesystem>=0.23.1 in /Library/Frameworks/Python.framework/Versions/3.10/lib/python3.10/site-packages (from tensorflow-macos==2.15.0->tensorflow) (0.34.0)\n",
            "Requirement already satisfied: grpcio<2.0,>=1.24.3 in /Library/Frameworks/Python.framework/Versions/3.10/lib/python3.10/site-packages (from tensorflow-macos==2.15.0->tensorflow) (1.57.0)\n",
            "Requirement already satisfied: tensorboard<2.16,>=2.15 in /Library/Frameworks/Python.framework/Versions/3.10/lib/python3.10/site-packages (from tensorflow-macos==2.15.0->tensorflow) (2.15.1)\n",
            "Requirement already satisfied: tensorflow-estimator<2.16,>=2.15.0 in /Library/Frameworks/Python.framework/Versions/3.10/lib/python3.10/site-packages (from tensorflow-macos==2.15.0->tensorflow) (2.15.0)\n",
            "Requirement already satisfied: keras<2.16,>=2.15.0 in /Library/Frameworks/Python.framework/Versions/3.10/lib/python3.10/site-packages (from tensorflow-macos==2.15.0->tensorflow) (2.15.0)\n",
            "Requirement already satisfied: wheel<1.0,>=0.23.0 in /Library/Frameworks/Python.framework/Versions/3.10/lib/python3.10/site-packages (from astunparse>=1.6.0->tensorflow-macos==2.15.0->tensorflow) (0.41.1)\n",
            "Requirement already satisfied: google-auth<3,>=1.6.3 in /Library/Frameworks/Python.framework/Versions/3.10/lib/python3.10/site-packages (from tensorboard<2.16,>=2.15->tensorflow-macos==2.15.0->tensorflow) (2.22.0)\n",
            "Requirement already satisfied: google-auth-oauthlib<2,>=0.5 in /Library/Frameworks/Python.framework/Versions/3.10/lib/python3.10/site-packages (from tensorboard<2.16,>=2.15->tensorflow-macos==2.15.0->tensorflow) (1.0.0)\n",
            "Requirement already satisfied: markdown>=2.6.8 in /Library/Frameworks/Python.framework/Versions/3.10/lib/python3.10/site-packages (from tensorboard<2.16,>=2.15->tensorflow-macos==2.15.0->tensorflow) (3.4.4)\n",
            "Requirement already satisfied: requests<3,>=2.21.0 in /Library/Frameworks/Python.framework/Versions/3.10/lib/python3.10/site-packages (from tensorboard<2.16,>=2.15->tensorflow-macos==2.15.0->tensorflow) (2.31.0)\n",
            "Requirement already satisfied: tensorboard-data-server<0.8.0,>=0.7.0 in /Library/Frameworks/Python.framework/Versions/3.10/lib/python3.10/site-packages (from tensorboard<2.16,>=2.15->tensorflow-macos==2.15.0->tensorflow) (0.7.1)\n",
            "Requirement already satisfied: werkzeug>=1.0.1 in /Library/Frameworks/Python.framework/Versions/3.10/lib/python3.10/site-packages (from tensorboard<2.16,>=2.15->tensorflow-macos==2.15.0->tensorflow) (2.3.7)\n",
            "Requirement already satisfied: cachetools<6.0,>=2.0.0 in /Library/Frameworks/Python.framework/Versions/3.10/lib/python3.10/site-packages (from google-auth<3,>=1.6.3->tensorboard<2.16,>=2.15->tensorflow-macos==2.15.0->tensorflow) (5.3.1)\n",
            "Requirement already satisfied: pyasn1-modules>=0.2.1 in /Library/Frameworks/Python.framework/Versions/3.10/lib/python3.10/site-packages (from google-auth<3,>=1.6.3->tensorboard<2.16,>=2.15->tensorflow-macos==2.15.0->tensorflow) (0.3.0)\n",
            "Requirement already satisfied: rsa<5,>=3.1.4 in /Library/Frameworks/Python.framework/Versions/3.10/lib/python3.10/site-packages (from google-auth<3,>=1.6.3->tensorboard<2.16,>=2.15->tensorflow-macos==2.15.0->tensorflow) (4.9)\n",
            "Requirement already satisfied: urllib3<2.0 in /Library/Frameworks/Python.framework/Versions/3.10/lib/python3.10/site-packages (from google-auth<3,>=1.6.3->tensorboard<2.16,>=2.15->tensorflow-macos==2.15.0->tensorflow) (1.26.16)\n",
            "Requirement already satisfied: requests-oauthlib>=0.7.0 in /Library/Frameworks/Python.framework/Versions/3.10/lib/python3.10/site-packages (from google-auth-oauthlib<2,>=0.5->tensorboard<2.16,>=2.15->tensorflow-macos==2.15.0->tensorflow) (1.3.1)\n",
            "Requirement already satisfied: charset-normalizer<4,>=2 in /Library/Frameworks/Python.framework/Versions/3.10/lib/python3.10/site-packages (from requests<3,>=2.21.0->tensorboard<2.16,>=2.15->tensorflow-macos==2.15.0->tensorflow) (3.2.0)\n",
            "Requirement already satisfied: idna<4,>=2.5 in /Library/Frameworks/Python.framework/Versions/3.10/lib/python3.10/site-packages (from requests<3,>=2.21.0->tensorboard<2.16,>=2.15->tensorflow-macos==2.15.0->tensorflow) (3.4)\n",
            "Requirement already satisfied: certifi>=2017.4.17 in /Library/Frameworks/Python.framework/Versions/3.10/lib/python3.10/site-packages (from requests<3,>=2.21.0->tensorboard<2.16,>=2.15->tensorflow-macos==2.15.0->tensorflow) (2023.7.22)\n",
            "Requirement already satisfied: MarkupSafe>=2.1.1 in /Library/Frameworks/Python.framework/Versions/3.10/lib/python3.10/site-packages (from werkzeug>=1.0.1->tensorboard<2.16,>=2.15->tensorflow-macos==2.15.0->tensorflow) (2.1.3)\n",
            "Requirement already satisfied: pyasn1<0.6.0,>=0.4.6 in /Library/Frameworks/Python.framework/Versions/3.10/lib/python3.10/site-packages (from pyasn1-modules>=0.2.1->google-auth<3,>=1.6.3->tensorboard<2.16,>=2.15->tensorflow-macos==2.15.0->tensorflow) (0.5.0)\n",
            "Requirement already satisfied: oauthlib>=3.0.0 in /Library/Frameworks/Python.framework/Versions/3.10/lib/python3.10/site-packages (from requests-oauthlib>=0.7.0->google-auth-oauthlib<2,>=0.5->tensorboard<2.16,>=2.15->tensorflow-macos==2.15.0->tensorflow) (3.2.2)\n",
            "Note: you may need to restart the kernel to use updated packages.\n"
          ]
        }
      ],
      "source": [
        "%pip install librosa\n",
        "%pip install --upgrade tensorflow"
      ]
    },
    {
      "cell_type": "code",
      "execution_count": 20,
      "metadata": {},
      "outputs": [
        {
          "name": "stdout",
          "output_type": "stream",
          "text": [
            "Requirement already satisfied: seaborn in /Library/Frameworks/Python.framework/Versions/3.10/lib/python3.10/site-packages (0.13.0)\n",
            "Requirement already satisfied: numpy!=1.24.0,>=1.20 in /Library/Frameworks/Python.framework/Versions/3.10/lib/python3.10/site-packages (from seaborn) (1.24.3)\n",
            "Requirement already satisfied: pandas>=1.2 in /Library/Frameworks/Python.framework/Versions/3.10/lib/python3.10/site-packages (from seaborn) (2.1.3)\n",
            "Requirement already satisfied: matplotlib!=3.6.1,>=3.3 in /Library/Frameworks/Python.framework/Versions/3.10/lib/python3.10/site-packages (from seaborn) (3.7.2)\n",
            "Requirement already satisfied: contourpy>=1.0.1 in /Library/Frameworks/Python.framework/Versions/3.10/lib/python3.10/site-packages (from matplotlib!=3.6.1,>=3.3->seaborn) (1.1.0)\n",
            "Requirement already satisfied: cycler>=0.10 in /Library/Frameworks/Python.framework/Versions/3.10/lib/python3.10/site-packages (from matplotlib!=3.6.1,>=3.3->seaborn) (0.11.0)\n",
            "Requirement already satisfied: fonttools>=4.22.0 in /Library/Frameworks/Python.framework/Versions/3.10/lib/python3.10/site-packages (from matplotlib!=3.6.1,>=3.3->seaborn) (4.42.1)\n",
            "Requirement already satisfied: kiwisolver>=1.0.1 in /Library/Frameworks/Python.framework/Versions/3.10/lib/python3.10/site-packages (from matplotlib!=3.6.1,>=3.3->seaborn) (1.4.4)\n",
            "Requirement already satisfied: packaging>=20.0 in /Library/Frameworks/Python.framework/Versions/3.10/lib/python3.10/site-packages (from matplotlib!=3.6.1,>=3.3->seaborn) (23.1)\n",
            "Requirement already satisfied: pillow>=6.2.0 in /Library/Frameworks/Python.framework/Versions/3.10/lib/python3.10/site-packages (from matplotlib!=3.6.1,>=3.3->seaborn) (10.0.0)\n",
            "Requirement already satisfied: pyparsing<3.1,>=2.3.1 in /Library/Frameworks/Python.framework/Versions/3.10/lib/python3.10/site-packages (from matplotlib!=3.6.1,>=3.3->seaborn) (3.0.9)\n",
            "Requirement already satisfied: python-dateutil>=2.7 in /Library/Frameworks/Python.framework/Versions/3.10/lib/python3.10/site-packages (from matplotlib!=3.6.1,>=3.3->seaborn) (2.8.2)\n",
            "Requirement already satisfied: pytz>=2020.1 in /Library/Frameworks/Python.framework/Versions/3.10/lib/python3.10/site-packages (from pandas>=1.2->seaborn) (2023.3.post1)\n",
            "Requirement already satisfied: tzdata>=2022.1 in /Library/Frameworks/Python.framework/Versions/3.10/lib/python3.10/site-packages (from pandas>=1.2->seaborn) (2023.3)\n",
            "Requirement already satisfied: six>=1.5 in /Library/Frameworks/Python.framework/Versions/3.10/lib/python3.10/site-packages (from python-dateutil>=2.7->matplotlib!=3.6.1,>=3.3->seaborn) (1.16.0)\n",
            "Note: you may need to restart the kernel to use updated packages.\n",
            "Requirement already satisfied: focal_loss in /Library/Frameworks/Python.framework/Versions/3.10/lib/python3.10/site-packages (0.0.7)\n",
            "Requirement already satisfied: tensorflow>=2.2 in /Library/Frameworks/Python.framework/Versions/3.10/lib/python3.10/site-packages (from focal_loss) (2.15.0)\n",
            "Requirement already satisfied: tensorflow-macos==2.15.0 in /Library/Frameworks/Python.framework/Versions/3.10/lib/python3.10/site-packages (from tensorflow>=2.2->focal_loss) (2.15.0)\n",
            "Requirement already satisfied: absl-py>=1.0.0 in /Library/Frameworks/Python.framework/Versions/3.10/lib/python3.10/site-packages (from tensorflow-macos==2.15.0->tensorflow>=2.2->focal_loss) (1.4.0)\n",
            "Requirement already satisfied: astunparse>=1.6.0 in /Library/Frameworks/Python.framework/Versions/3.10/lib/python3.10/site-packages (from tensorflow-macos==2.15.0->tensorflow>=2.2->focal_loss) (1.6.3)\n",
            "Requirement already satisfied: flatbuffers>=23.5.26 in /Library/Frameworks/Python.framework/Versions/3.10/lib/python3.10/site-packages (from tensorflow-macos==2.15.0->tensorflow>=2.2->focal_loss) (23.5.26)\n",
            "Requirement already satisfied: gast!=0.5.0,!=0.5.1,!=0.5.2,>=0.2.1 in /Library/Frameworks/Python.framework/Versions/3.10/lib/python3.10/site-packages (from tensorflow-macos==2.15.0->tensorflow>=2.2->focal_loss) (0.4.0)\n",
            "Requirement already satisfied: google-pasta>=0.1.1 in /Library/Frameworks/Python.framework/Versions/3.10/lib/python3.10/site-packages (from tensorflow-macos==2.15.0->tensorflow>=2.2->focal_loss) (0.2.0)\n",
            "Requirement already satisfied: h5py>=2.9.0 in /Library/Frameworks/Python.framework/Versions/3.10/lib/python3.10/site-packages (from tensorflow-macos==2.15.0->tensorflow>=2.2->focal_loss) (3.9.0)\n",
            "Requirement already satisfied: libclang>=13.0.0 in /Library/Frameworks/Python.framework/Versions/3.10/lib/python3.10/site-packages (from tensorflow-macos==2.15.0->tensorflow>=2.2->focal_loss) (16.0.6)\n",
            "Requirement already satisfied: ml-dtypes~=0.2.0 in /Library/Frameworks/Python.framework/Versions/3.10/lib/python3.10/site-packages (from tensorflow-macos==2.15.0->tensorflow>=2.2->focal_loss) (0.2.0)\n",
            "Requirement already satisfied: numpy<2.0.0,>=1.23.5 in /Library/Frameworks/Python.framework/Versions/3.10/lib/python3.10/site-packages (from tensorflow-macos==2.15.0->tensorflow>=2.2->focal_loss) (1.24.3)\n",
            "Requirement already satisfied: opt-einsum>=2.3.2 in /Library/Frameworks/Python.framework/Versions/3.10/lib/python3.10/site-packages (from tensorflow-macos==2.15.0->tensorflow>=2.2->focal_loss) (3.3.0)\n",
            "Requirement already satisfied: packaging in /Library/Frameworks/Python.framework/Versions/3.10/lib/python3.10/site-packages (from tensorflow-macos==2.15.0->tensorflow>=2.2->focal_loss) (23.1)\n",
            "Requirement already satisfied: protobuf!=4.21.0,!=4.21.1,!=4.21.2,!=4.21.3,!=4.21.4,!=4.21.5,<5.0.0dev,>=3.20.3 in /Library/Frameworks/Python.framework/Versions/3.10/lib/python3.10/site-packages (from tensorflow-macos==2.15.0->tensorflow>=2.2->focal_loss) (4.23.4)\n",
            "Requirement already satisfied: setuptools in /Library/Frameworks/Python.framework/Versions/3.10/lib/python3.10/site-packages (from tensorflow-macos==2.15.0->tensorflow>=2.2->focal_loss) (63.2.0)\n",
            "Requirement already satisfied: six>=1.12.0 in /Library/Frameworks/Python.framework/Versions/3.10/lib/python3.10/site-packages (from tensorflow-macos==2.15.0->tensorflow>=2.2->focal_loss) (1.16.0)\n",
            "Requirement already satisfied: termcolor>=1.1.0 in /Library/Frameworks/Python.framework/Versions/3.10/lib/python3.10/site-packages (from tensorflow-macos==2.15.0->tensorflow>=2.2->focal_loss) (2.3.0)\n",
            "Requirement already satisfied: typing-extensions>=3.6.6 in /Library/Frameworks/Python.framework/Versions/3.10/lib/python3.10/site-packages (from tensorflow-macos==2.15.0->tensorflow>=2.2->focal_loss) (4.5.0)\n",
            "Requirement already satisfied: wrapt<1.15,>=1.11.0 in /Library/Frameworks/Python.framework/Versions/3.10/lib/python3.10/site-packages (from tensorflow-macos==2.15.0->tensorflow>=2.2->focal_loss) (1.14.1)\n",
            "Requirement already satisfied: tensorflow-io-gcs-filesystem>=0.23.1 in /Library/Frameworks/Python.framework/Versions/3.10/lib/python3.10/site-packages (from tensorflow-macos==2.15.0->tensorflow>=2.2->focal_loss) (0.34.0)\n",
            "Requirement already satisfied: grpcio<2.0,>=1.24.3 in /Library/Frameworks/Python.framework/Versions/3.10/lib/python3.10/site-packages (from tensorflow-macos==2.15.0->tensorflow>=2.2->focal_loss) (1.57.0)\n",
            "Requirement already satisfied: tensorboard<2.16,>=2.15 in /Library/Frameworks/Python.framework/Versions/3.10/lib/python3.10/site-packages (from tensorflow-macos==2.15.0->tensorflow>=2.2->focal_loss) (2.15.1)\n",
            "Requirement already satisfied: tensorflow-estimator<2.16,>=2.15.0 in /Library/Frameworks/Python.framework/Versions/3.10/lib/python3.10/site-packages (from tensorflow-macos==2.15.0->tensorflow>=2.2->focal_loss) (2.15.0)\n",
            "Requirement already satisfied: keras<2.16,>=2.15.0 in /Library/Frameworks/Python.framework/Versions/3.10/lib/python3.10/site-packages (from tensorflow-macos==2.15.0->tensorflow>=2.2->focal_loss) (2.15.0)\n",
            "Requirement already satisfied: wheel<1.0,>=0.23.0 in /Library/Frameworks/Python.framework/Versions/3.10/lib/python3.10/site-packages (from astunparse>=1.6.0->tensorflow-macos==2.15.0->tensorflow>=2.2->focal_loss) (0.41.1)\n",
            "Requirement already satisfied: google-auth<3,>=1.6.3 in /Library/Frameworks/Python.framework/Versions/3.10/lib/python3.10/site-packages (from tensorboard<2.16,>=2.15->tensorflow-macos==2.15.0->tensorflow>=2.2->focal_loss) (2.22.0)\n",
            "Requirement already satisfied: google-auth-oauthlib<2,>=0.5 in /Library/Frameworks/Python.framework/Versions/3.10/lib/python3.10/site-packages (from tensorboard<2.16,>=2.15->tensorflow-macos==2.15.0->tensorflow>=2.2->focal_loss) (1.0.0)\n",
            "Requirement already satisfied: markdown>=2.6.8 in /Library/Frameworks/Python.framework/Versions/3.10/lib/python3.10/site-packages (from tensorboard<2.16,>=2.15->tensorflow-macos==2.15.0->tensorflow>=2.2->focal_loss) (3.4.4)\n",
            "Requirement already satisfied: requests<3,>=2.21.0 in /Library/Frameworks/Python.framework/Versions/3.10/lib/python3.10/site-packages (from tensorboard<2.16,>=2.15->tensorflow-macos==2.15.0->tensorflow>=2.2->focal_loss) (2.31.0)\n",
            "Requirement already satisfied: tensorboard-data-server<0.8.0,>=0.7.0 in /Library/Frameworks/Python.framework/Versions/3.10/lib/python3.10/site-packages (from tensorboard<2.16,>=2.15->tensorflow-macos==2.15.0->tensorflow>=2.2->focal_loss) (0.7.1)\n",
            "Requirement already satisfied: werkzeug>=1.0.1 in /Library/Frameworks/Python.framework/Versions/3.10/lib/python3.10/site-packages (from tensorboard<2.16,>=2.15->tensorflow-macos==2.15.0->tensorflow>=2.2->focal_loss) (2.3.7)\n",
            "Requirement already satisfied: cachetools<6.0,>=2.0.0 in /Library/Frameworks/Python.framework/Versions/3.10/lib/python3.10/site-packages (from google-auth<3,>=1.6.3->tensorboard<2.16,>=2.15->tensorflow-macos==2.15.0->tensorflow>=2.2->focal_loss) (5.3.1)\n",
            "Requirement already satisfied: pyasn1-modules>=0.2.1 in /Library/Frameworks/Python.framework/Versions/3.10/lib/python3.10/site-packages (from google-auth<3,>=1.6.3->tensorboard<2.16,>=2.15->tensorflow-macos==2.15.0->tensorflow>=2.2->focal_loss) (0.3.0)\n",
            "Requirement already satisfied: rsa<5,>=3.1.4 in /Library/Frameworks/Python.framework/Versions/3.10/lib/python3.10/site-packages (from google-auth<3,>=1.6.3->tensorboard<2.16,>=2.15->tensorflow-macos==2.15.0->tensorflow>=2.2->focal_loss) (4.9)\n",
            "Requirement already satisfied: urllib3<2.0 in /Library/Frameworks/Python.framework/Versions/3.10/lib/python3.10/site-packages (from google-auth<3,>=1.6.3->tensorboard<2.16,>=2.15->tensorflow-macos==2.15.0->tensorflow>=2.2->focal_loss) (1.26.16)\n",
            "Requirement already satisfied: requests-oauthlib>=0.7.0 in /Library/Frameworks/Python.framework/Versions/3.10/lib/python3.10/site-packages (from google-auth-oauthlib<2,>=0.5->tensorboard<2.16,>=2.15->tensorflow-macos==2.15.0->tensorflow>=2.2->focal_loss) (1.3.1)\n",
            "Requirement already satisfied: charset-normalizer<4,>=2 in /Library/Frameworks/Python.framework/Versions/3.10/lib/python3.10/site-packages (from requests<3,>=2.21.0->tensorboard<2.16,>=2.15->tensorflow-macos==2.15.0->tensorflow>=2.2->focal_loss) (3.2.0)\n",
            "Requirement already satisfied: idna<4,>=2.5 in /Library/Frameworks/Python.framework/Versions/3.10/lib/python3.10/site-packages (from requests<3,>=2.21.0->tensorboard<2.16,>=2.15->tensorflow-macos==2.15.0->tensorflow>=2.2->focal_loss) (3.4)\n",
            "Requirement already satisfied: certifi>=2017.4.17 in /Library/Frameworks/Python.framework/Versions/3.10/lib/python3.10/site-packages (from requests<3,>=2.21.0->tensorboard<2.16,>=2.15->tensorflow-macos==2.15.0->tensorflow>=2.2->focal_loss) (2023.7.22)\n",
            "Requirement already satisfied: MarkupSafe>=2.1.1 in /Library/Frameworks/Python.framework/Versions/3.10/lib/python3.10/site-packages (from werkzeug>=1.0.1->tensorboard<2.16,>=2.15->tensorflow-macos==2.15.0->tensorflow>=2.2->focal_loss) (2.1.3)\n",
            "Requirement already satisfied: pyasn1<0.6.0,>=0.4.6 in /Library/Frameworks/Python.framework/Versions/3.10/lib/python3.10/site-packages (from pyasn1-modules>=0.2.1->google-auth<3,>=1.6.3->tensorboard<2.16,>=2.15->tensorflow-macos==2.15.0->tensorflow>=2.2->focal_loss) (0.5.0)\n",
            "Requirement already satisfied: oauthlib>=3.0.0 in /Library/Frameworks/Python.framework/Versions/3.10/lib/python3.10/site-packages (from requests-oauthlib>=0.7.0->google-auth-oauthlib<2,>=0.5->tensorboard<2.16,>=2.15->tensorflow-macos==2.15.0->tensorflow>=2.2->focal_loss) (3.2.2)\n",
            "Note: you may need to restart the kernel to use updated packages.\n"
          ]
        }
      ],
      "source": [
        "%pip install seaborn\n",
        "%pip install focal_loss"
      ]
    },
    {
      "attachments": {},
      "cell_type": "markdown",
      "metadata": {},
      "source": [
        "<p>Disabling warnings</p>"
      ]
    },
    {
      "cell_type": "code",
      "execution_count": 21,
      "metadata": {},
      "outputs": [],
      "source": [
        "import warnings\n",
        "import sys\n",
        "if not sys.warnoptions:\n",
        "    warnings.simplefilter(\"ignore\")\n",
        "warnings.filterwarnings(\"ignore\", category=DeprecationWarning) "
      ]
    },
    {
      "cell_type": "markdown",
      "metadata": {},
      "source": [
        "<h2>Fetching Data</h2>"
      ]
    },
    {
      "cell_type": "code",
      "execution_count": 22,
      "metadata": {},
      "outputs": [],
      "source": [
        "# All data is saved on the \"DataSets\" directory\n",
        "import os\n",
        "\n",
        "dataSetDirectoryPath = \"DataSets/\""
      ]
    },
    {
      "cell_type": "markdown",
      "metadata": {},
      "source": [
        "<h3>RAVDESS</h3>"
      ]
    },
    {
      "cell_type": "markdown",
      "metadata": {},
      "source": [
        "<p>We downloaded the RAVDESS dataset from this link <a href=\"https://zenodo.org/records/1188976\">RAVDESS dataset</a></p>\n",
        "<p>We only considered the audio speech samples which consist of 24 actors with two different texts statements, two different emotional intensity, and with eight different emotions</p>\n",
        "<p>Data extraction of RAVDESS as follows</p>"
      ]
    },
    {
      "cell_type": "code",
      "execution_count": 23,
      "metadata": {},
      "outputs": [
        {
          "name": "stdout",
          "output_type": "stream",
          "text": [
            "Got the Ravdess data directory\n"
          ]
        }
      ],
      "source": [
        "RavdessDataSetPath = dataSetDirectoryPath+ \"ravdess\"\n",
        "RavdessDataFolders = os.listdir(RavdessDataSetPath)\n",
        "print(\"Got the Ravdess data directory\")"
      ]
    },
    {
      "cell_type": "markdown",
      "metadata": {},
      "source": [
        "<h4>Data Manipulation for RAVDESS data</h4>\n",
        "<p>We are creating a list to separate the file based on the emotions. Mapping the emotions with respective file path</p>\n",
        "<p>For the Ravdess audio files. each file contains an emotion the emotion can be captured using the file name</p>\n",
        "<p>Example: 03-01-01-01-01-01-01.wav - in this file name each number represents different parameter. here we are considering the third number which is \"01\" it tells the emotion of that particular audio.</p>\n",
        "<p> Where each number represents as follows</p>\n",
        "<ul>\n",
        "    <li>01: Neutral</li>\n",
        "    <li>02: Calm</li>\n",
        "    <li>03: Happy</li>\n",
        "    <li>04: Sad</li>\n",
        "    <li>05: Anger</li>\n",
        "    <li>06: Fear</li>\n",
        "    <li>07: Disgust</li>\n",
        "    <li>08: Surprise</li>\n",
        "</ul>"
      ]
    },
    {
      "cell_type": "code",
      "execution_count": 24,
      "metadata": {},
      "outputs": [
        {
          "name": "stdout",
          "output_type": "stream",
          "text": [
            "Completed the extraction of RAVDESS emotions based on the files\n"
          ]
        }
      ],
      "source": [
        "RavdessEmotion =[]\n",
        "RavdessFilePaths=[]\n",
        "\n",
        "for eachFolder in RavdessDataFolders:\n",
        "    if not eachFolder.startswith(\".\"):\n",
        "        filesInFolder = os.listdir(RavdessDataSetPath+'/'+eachFolder)\n",
        "        for eachFileName in filesInFolder:\n",
        "            if eachFileName.endswith(\".wav\"):\n",
        "                splitFileName = eachFileName.split(\".\")\n",
        "                splitNameToExtractEmotions = splitFileName[0].split(\"-\")\n",
        "                fileEmotion = int(splitNameToExtractEmotions[2])\n",
        "                RavdessEmotion.append(fileEmotion)\n",
        "                RavdessFilePaths.append(RavdessDataSetPath+'/'+eachFolder+\"/\"+eachFileName)\n",
        "print(\"Completed the extraction of RAVDESS emotions based on the files\")"
      ]
    },
    {
      "cell_type": "code",
      "execution_count": 25,
      "metadata": {},
      "outputs": [
        {
          "data": {
            "text/html": [
              "<div>\n",
              "<style scoped>\n",
              "    .dataframe tbody tr th:only-of-type {\n",
              "        vertical-align: middle;\n",
              "    }\n",
              "\n",
              "    .dataframe tbody tr th {\n",
              "        vertical-align: top;\n",
              "    }\n",
              "\n",
              "    .dataframe thead th {\n",
              "        text-align: right;\n",
              "    }\n",
              "</style>\n",
              "<table border=\"1\" class=\"dataframe\">\n",
              "  <thead>\n",
              "    <tr style=\"text-align: right;\">\n",
              "      <th></th>\n",
              "      <th>Emotions</th>\n",
              "      <th>FilePath</th>\n",
              "    </tr>\n",
              "  </thead>\n",
              "  <tbody>\n",
              "    <tr>\n",
              "      <th>0</th>\n",
              "      <td>5</td>\n",
              "      <td>DataSets/ravdess/Actor_16/03-01-05-01-02-01-16...</td>\n",
              "    </tr>\n",
              "    <tr>\n",
              "      <th>1</th>\n",
              "      <td>6</td>\n",
              "      <td>DataSets/ravdess/Actor_16/03-01-06-01-02-02-16...</td>\n",
              "    </tr>\n",
              "    <tr>\n",
              "      <th>2</th>\n",
              "      <td>6</td>\n",
              "      <td>DataSets/ravdess/Actor_16/03-01-06-02-01-02-16...</td>\n",
              "    </tr>\n",
              "    <tr>\n",
              "      <th>3</th>\n",
              "      <td>5</td>\n",
              "      <td>DataSets/ravdess/Actor_16/03-01-05-02-01-01-16...</td>\n",
              "    </tr>\n",
              "    <tr>\n",
              "      <th>4</th>\n",
              "      <td>7</td>\n",
              "      <td>DataSets/ravdess/Actor_16/03-01-07-01-01-01-16...</td>\n",
              "    </tr>\n",
              "  </tbody>\n",
              "</table>\n",
              "</div>"
            ],
            "text/plain": [
              "   Emotions                                           FilePath\n",
              "0         5  DataSets/ravdess/Actor_16/03-01-05-01-02-01-16...\n",
              "1         6  DataSets/ravdess/Actor_16/03-01-06-01-02-02-16...\n",
              "2         6  DataSets/ravdess/Actor_16/03-01-06-02-01-02-16...\n",
              "3         5  DataSets/ravdess/Actor_16/03-01-05-02-01-01-16...\n",
              "4         7  DataSets/ravdess/Actor_16/03-01-07-01-01-01-16..."
            ]
          },
          "execution_count": 25,
          "metadata": {},
          "output_type": "execute_result"
        }
      ],
      "source": [
        "# Place the extracted data in the data frames\n",
        "\n",
        "import pandas as pd\n",
        "\n",
        "RavdessEmotionsDataFrame = pd.DataFrame(RavdessEmotion, columns=['Emotions'])\n",
        "RavdessPathDataFrame = pd.DataFrame(RavdessFilePaths, columns=['FilePath'])\n",
        "\n",
        "RavdessDataFrame = pd.concat([RavdessEmotionsDataFrame, RavdessPathDataFrame], axis=1)\n",
        "\n",
        "RavdessDataFrame.head()\n",
        "\n"
      ]
    },
    {
      "cell_type": "code",
      "execution_count": 26,
      "metadata": {},
      "outputs": [
        {
          "data": {
            "text/html": [
              "<div>\n",
              "<style scoped>\n",
              "    .dataframe tbody tr th:only-of-type {\n",
              "        vertical-align: middle;\n",
              "    }\n",
              "\n",
              "    .dataframe tbody tr th {\n",
              "        vertical-align: top;\n",
              "    }\n",
              "\n",
              "    .dataframe thead th {\n",
              "        text-align: right;\n",
              "    }\n",
              "</style>\n",
              "<table border=\"1\" class=\"dataframe\">\n",
              "  <thead>\n",
              "    <tr style=\"text-align: right;\">\n",
              "      <th></th>\n",
              "      <th>Emotions</th>\n",
              "      <th>FilePath</th>\n",
              "    </tr>\n",
              "  </thead>\n",
              "  <tbody>\n",
              "    <tr>\n",
              "      <th>0</th>\n",
              "      <td>angry</td>\n",
              "      <td>DataSets/ravdess/Actor_16/03-01-05-01-02-01-16...</td>\n",
              "    </tr>\n",
              "    <tr>\n",
              "      <th>1</th>\n",
              "      <td>fear</td>\n",
              "      <td>DataSets/ravdess/Actor_16/03-01-06-01-02-02-16...</td>\n",
              "    </tr>\n",
              "    <tr>\n",
              "      <th>2</th>\n",
              "      <td>fear</td>\n",
              "      <td>DataSets/ravdess/Actor_16/03-01-06-02-01-02-16...</td>\n",
              "    </tr>\n",
              "    <tr>\n",
              "      <th>3</th>\n",
              "      <td>angry</td>\n",
              "      <td>DataSets/ravdess/Actor_16/03-01-05-02-01-01-16...</td>\n",
              "    </tr>\n",
              "    <tr>\n",
              "      <th>4</th>\n",
              "      <td>disgust</td>\n",
              "      <td>DataSets/ravdess/Actor_16/03-01-07-01-01-01-16...</td>\n",
              "    </tr>\n",
              "  </tbody>\n",
              "</table>\n",
              "</div>"
            ],
            "text/plain": [
              "  Emotions                                           FilePath\n",
              "0    angry  DataSets/ravdess/Actor_16/03-01-05-01-02-01-16...\n",
              "1     fear  DataSets/ravdess/Actor_16/03-01-06-01-02-02-16...\n",
              "2     fear  DataSets/ravdess/Actor_16/03-01-06-02-01-02-16...\n",
              "3    angry  DataSets/ravdess/Actor_16/03-01-05-02-01-01-16...\n",
              "4  disgust  DataSets/ravdess/Actor_16/03-01-07-01-01-01-16..."
            ]
          },
          "execution_count": 26,
          "metadata": {},
          "output_type": "execute_result"
        }
      ],
      "source": [
        "# Replace emotion number with emotion string\n",
        "mappedEmotionStrings = {1: 'neutral', 2: 'calm', 3: 'happy', 4: 'sad', 5: 'angry', 6: 'fear', 7: 'disgust', 8: 'surprise'}\n",
        "RavdessDataFrame['Emotions'].replace(mappedEmotionStrings, inplace=True)\n",
        "RavdessDataFrame.head()"
      ]
    },
    {
      "cell_type": "code",
      "execution_count": 27,
      "metadata": {},
      "outputs": [
        {
          "name": "stdout",
          "output_type": "stream",
          "text": [
            "Emotions\n",
            "angry       192\n",
            "fear        192\n",
            "disgust     192\n",
            "sad         192\n",
            "surprise    192\n",
            "happy       192\n",
            "calm        192\n",
            "neutral      96\n",
            "Name: count, dtype: int64\n"
          ]
        }
      ],
      "source": [
        "print(RavdessDataFrame.Emotions.value_counts())"
      ]
    },
    {
      "attachments": {},
      "cell_type": "markdown",
      "metadata": {},
      "source": [
        "<h3>CREMA D</h3>"
      ]
    },
    {
      "attachments": {},
      "cell_type": "markdown",
      "metadata": {},
      "source": [
        "<p>We downloaded the CREMA D dataset from this link <a href=\"https://paperswithcode.com/dataset/crema-d\">CREMA D dataset</a></p>\n",
        "<p>We only considered the audio speech samples which consist of 91 actors with 12 different texts statements, four different emotional intensity, and with six different emotions</p>\n",
        "<p>Data extraction of CREMA D as follows</p>"
      ]
    },
    {
      "cell_type": "code",
      "execution_count": 28,
      "metadata": {},
      "outputs": [
        {
          "name": "stdout",
          "output_type": "stream",
          "text": [
            "Got the CREMA D data directory\n"
          ]
        }
      ],
      "source": [
        "CremaDataSetPath = dataSetDirectoryPath+ \"CREMA-D\"\n",
        "CremaDataFilesFolder = os.listdir(CremaDataSetPath)\n",
        "print(\"Got the CREMA D data directory\")"
      ]
    },
    {
      "attachments": {},
      "cell_type": "markdown",
      "metadata": {},
      "source": [
        "<h4>Data Manipulation for CREMA D data</h4>\n",
        "<p>We are creating a list to separate the file based on the emotions. Mapping the emotions with respective file path</p>\n",
        "<p>For the CREMA D audio files. each file contains an emotion the emotion can be captured using the file name</p>\n",
        "<p>Example: 1001_DFA_ANG_XX.wav - if we see the third string, it has \"ANG\" it represents the emotions of the audio file.</p>\n",
        "<p> Where each abbreviation of emotion represents as follows</p>\n",
        "<ul>\n",
        "    <li>ANG: Anger</li>\n",
        "    <li>DIS: Disgust</li>\n",
        "    <li>SAD: Sad</li>\n",
        "    <li>FEA: Fear</li>\n",
        "    <li>HAP: Happy</li>\n",
        "    <li>NEU: Neutral</li>\n",
        "</ul>"
      ]
    },
    {
      "cell_type": "code",
      "execution_count": 29,
      "metadata": {},
      "outputs": [
        {
          "name": "stdout",
          "output_type": "stream",
          "text": [
            "Completed the extration of CREMA D emotions based on the files\n"
          ]
        }
      ],
      "source": [
        "CremaDEmotion =[]\n",
        "CremaDFilePaths=[]\n",
        "\n",
        "for eachFileName in CremaDataFilesFolder:\n",
        "    if eachFileName.endswith(\".wav\"):\n",
        "        splitFileName = eachFileName.split(\".\")\n",
        "        splitNameToExtractEmotions = splitFileName[0].split(\"_\")\n",
        "        fileEmotion = splitNameToExtractEmotions[2]\n",
        "        if fileEmotion == 'ANG':\n",
        "            CremaDEmotion.append('angry')\n",
        "            CremaDFilePaths.append(CremaDataSetPath+'/'+eachFileName)\n",
        "        elif fileEmotion == 'DIS':\n",
        "            CremaDEmotion.append('disgust')\n",
        "            CremaDFilePaths.append(CremaDataSetPath+'/'+eachFileName)\n",
        "        elif fileEmotion == 'SAD':\n",
        "            CremaDEmotion.append('sad')\n",
        "            CremaDFilePaths.append(CremaDataSetPath+'/'+eachFileName)\n",
        "        elif fileEmotion == 'FEA':\n",
        "            CremaDEmotion.append('fear')\n",
        "            CremaDFilePaths.append(CremaDataSetPath+'/'+eachFileName)\n",
        "        elif fileEmotion == 'HAP':\n",
        "            CremaDEmotion.append('happy')\n",
        "            CremaDFilePaths.append(CremaDataSetPath+'/'+eachFileName)\n",
        "        elif fileEmotion == 'NEU':\n",
        "            CremaDEmotion.append('neutral')\n",
        "            CremaDFilePaths.append(CremaDataSetPath+'/'+eachFileName)\n",
        "print(\"Completed the extration of CREMA D emotions based on the files\")"
      ]
    },
    {
      "cell_type": "code",
      "execution_count": 30,
      "metadata": {},
      "outputs": [
        {
          "data": {
            "text/html": [
              "<div>\n",
              "<style scoped>\n",
              "    .dataframe tbody tr th:only-of-type {\n",
              "        vertical-align: middle;\n",
              "    }\n",
              "\n",
              "    .dataframe tbody tr th {\n",
              "        vertical-align: top;\n",
              "    }\n",
              "\n",
              "    .dataframe thead th {\n",
              "        text-align: right;\n",
              "    }\n",
              "</style>\n",
              "<table border=\"1\" class=\"dataframe\">\n",
              "  <thead>\n",
              "    <tr style=\"text-align: right;\">\n",
              "      <th></th>\n",
              "      <th>Emotions</th>\n",
              "      <th>FilePath</th>\n",
              "    </tr>\n",
              "  </thead>\n",
              "  <tbody>\n",
              "    <tr>\n",
              "      <th>0</th>\n",
              "      <td>angry</td>\n",
              "      <td>DataSets/CREMA-D/1022_ITS_ANG_XX.wav</td>\n",
              "    </tr>\n",
              "    <tr>\n",
              "      <th>1</th>\n",
              "      <td>angry</td>\n",
              "      <td>DataSets/CREMA-D/1037_ITS_ANG_XX.wav</td>\n",
              "    </tr>\n",
              "    <tr>\n",
              "      <th>2</th>\n",
              "      <td>neutral</td>\n",
              "      <td>DataSets/CREMA-D/1060_ITS_NEU_XX.wav</td>\n",
              "    </tr>\n",
              "    <tr>\n",
              "      <th>3</th>\n",
              "      <td>neutral</td>\n",
              "      <td>DataSets/CREMA-D/1075_ITS_NEU_XX.wav</td>\n",
              "    </tr>\n",
              "    <tr>\n",
              "      <th>4</th>\n",
              "      <td>disgust</td>\n",
              "      <td>DataSets/CREMA-D/1073_IOM_DIS_XX.wav</td>\n",
              "    </tr>\n",
              "  </tbody>\n",
              "</table>\n",
              "</div>"
            ],
            "text/plain": [
              "  Emotions                              FilePath\n",
              "0    angry  DataSets/CREMA-D/1022_ITS_ANG_XX.wav\n",
              "1    angry  DataSets/CREMA-D/1037_ITS_ANG_XX.wav\n",
              "2  neutral  DataSets/CREMA-D/1060_ITS_NEU_XX.wav\n",
              "3  neutral  DataSets/CREMA-D/1075_ITS_NEU_XX.wav\n",
              "4  disgust  DataSets/CREMA-D/1073_IOM_DIS_XX.wav"
            ]
          },
          "execution_count": 30,
          "metadata": {},
          "output_type": "execute_result"
        }
      ],
      "source": [
        "CreamDEmotionsDataFrame = pd.DataFrame(CremaDEmotion, columns=['Emotions'])\n",
        "CreamDPathDataFrame = pd.DataFrame(CremaDFilePaths, columns=['FilePath'])\n",
        "\n",
        "CreamDDataFrame = pd.concat([CreamDEmotionsDataFrame, CreamDPathDataFrame], axis=1)\n",
        "\n",
        "CreamDDataFrame.head()"
      ]
    },
    {
      "cell_type": "code",
      "execution_count": 31,
      "metadata": {},
      "outputs": [
        {
          "name": "stdout",
          "output_type": "stream",
          "text": [
            "Emotions\n",
            "angry      1271\n",
            "disgust    1271\n",
            "sad        1271\n",
            "fear       1271\n",
            "happy      1271\n",
            "neutral    1087\n",
            "Name: count, dtype: int64\n"
          ]
        }
      ],
      "source": [
        "print(CreamDDataFrame.Emotions.value_counts())"
      ]
    },
    {
      "attachments": {},
      "cell_type": "markdown",
      "metadata": {},
      "source": [
        "<h3>SAVEE</h3>"
      ]
    },
    {
      "attachments": {},
      "cell_type": "markdown",
      "metadata": {},
      "source": [
        "<p>We downloaded the SAVEE dataset from this link <a href=\"http://kahlan.eps.surrey.ac.uk/savee/\">SAVEE dataset</a></p>\n",
        "<p>We only considered the audio speech samples which consist seven different emotions</p>\n",
        "<p>Data extraction of SAVEE as follows</p>"
      ]
    },
    {
      "cell_type": "code",
      "execution_count": 24,
      "metadata": {},
      "outputs": [
        {
          "name": "stdout",
          "output_type": "stream",
          "text": [
            "Got the SAVEE data directory\n"
          ]
        }
      ],
      "source": [
        "SaveePath = dataSetDirectoryPath+ \"Savee\"\n",
        "SaveeDataFilesFolder = os.listdir(SaveePath)\n",
        "print(\"Got the SAVEE data directory\")"
      ]
    },
    {
      "attachments": {},
      "cell_type": "markdown",
      "metadata": {},
      "source": [
        "<h4>Data Manipulation for SAVEE data</h4>\n",
        "<p>We are creating a list to separate the file based on the emotions. Mapping the emotions with respective file path</p>\n",
        "<p>For the SAVEE audio files. each file contains an emotion the emotion can be captured using the file name</p>\n",
        "<p>Example: DC_a01.wav - if we see the second s[plitted string the letter starts with \"a\" which means it's an anger emotion based audio</p>\n",
        "<p> Where each abbreviation of emotion represents as follows</p>\n",
        "<ul>\n",
        "    <li>a: Anger</li>\n",
        "    <li>d: Disgust</li>\n",
        "    <li>sa: Sad</li>\n",
        "    <li>f: Fear</li>\n",
        "    <li>h: Happy</li>\n",
        "    <li>n: Neutral</li>\n",
        "    <li>su: Suprise</li>\n",
        "</ul>"
      ]
    },
    {
      "cell_type": "code",
      "execution_count": 25,
      "metadata": {},
      "outputs": [
        {
          "name": "stdout",
          "output_type": "stream",
          "text": [
            "Completed the extration of SAVEE emotions based on the files\n"
          ]
        }
      ],
      "source": [
        "\n",
        "SaveeEmotion = []\n",
        "SaveeFilePath = []\n",
        "\n",
        "for eachFileName in SaveeDataFilesFolder:\n",
        "    extractFilePath = eachFileName.split('_')[1]\n",
        "    emotionVal = extractFilePath[:-6]\n",
        "    if emotionVal=='d':\n",
        "        SaveeFilePath.append(SaveePath+\"/\" + eachFileName)\n",
        "        SaveeEmotion.append('disgust')\n",
        "    elif emotionVal=='a':\n",
        "        SaveeFilePath.append(SaveePath+\"/\" + eachFileName)\n",
        "        SaveeEmotion.append('angry')\n",
        "    elif emotionVal=='su':\n",
        "        SaveeFilePath.append(SaveePath+\"/\" + eachFileName)\n",
        "        SaveeEmotion.append('surprise')\n",
        "    elif emotionVal=='h':\n",
        "        SaveeFilePath.append(SaveePath+\"/\" + eachFileName)\n",
        "        SaveeEmotion.append('happy')\n",
        "    elif emotionVal=='sa':\n",
        "        SaveeFilePath.append(SaveePath+\"/\" + eachFileName)\n",
        "        SaveeEmotion.append('sad')\n",
        "    elif emotionVal=='f':\n",
        "        SaveeFilePath.append(SaveePath+\"/\" + eachFileName)\n",
        "        SaveeEmotion.append('fear')\n",
        "    elif emotionVal=='n':\n",
        "        SaveeFilePath.append(SaveePath+\"/\" + eachFileName)\n",
        "        SaveeEmotion.append('neutral')\n",
        "print(\"Completed the extration of SAVEE emotions based on the files\")      \n"
      ]
    },
    {
      "cell_type": "code",
      "execution_count": 26,
      "metadata": {},
      "outputs": [
        {
          "data": {
            "text/html": [
              "<div>\n",
              "<style scoped>\n",
              "    .dataframe tbody tr th:only-of-type {\n",
              "        vertical-align: middle;\n",
              "    }\n",
              "\n",
              "    .dataframe tbody tr th {\n",
              "        vertical-align: top;\n",
              "    }\n",
              "\n",
              "    .dataframe thead th {\n",
              "        text-align: right;\n",
              "    }\n",
              "</style>\n",
              "<table border=\"1\" class=\"dataframe\">\n",
              "  <thead>\n",
              "    <tr style=\"text-align: right;\">\n",
              "      <th></th>\n",
              "      <th>Emotions</th>\n",
              "      <th>FilePath</th>\n",
              "    </tr>\n",
              "  </thead>\n",
              "  <tbody>\n",
              "    <tr>\n",
              "      <th>0</th>\n",
              "      <td>sad</td>\n",
              "      <td>DataSets/Savee/JK_sa01.wav</td>\n",
              "    </tr>\n",
              "    <tr>\n",
              "      <th>1</th>\n",
              "      <td>sad</td>\n",
              "      <td>DataSets/Savee/JK_sa15.wav</td>\n",
              "    </tr>\n",
              "    <tr>\n",
              "      <th>2</th>\n",
              "      <td>neutral</td>\n",
              "      <td>DataSets/Savee/DC_n13.wav</td>\n",
              "    </tr>\n",
              "    <tr>\n",
              "      <th>3</th>\n",
              "      <td>surprise</td>\n",
              "      <td>DataSets/Savee/DC_su09.wav</td>\n",
              "    </tr>\n",
              "    <tr>\n",
              "      <th>4</th>\n",
              "      <td>neutral</td>\n",
              "      <td>DataSets/Savee/DC_n07.wav</td>\n",
              "    </tr>\n",
              "  </tbody>\n",
              "</table>\n",
              "</div>"
            ],
            "text/plain": [
              "   Emotions                    FilePath\n",
              "0       sad  DataSets/Savee/JK_sa01.wav\n",
              "1       sad  DataSets/Savee/JK_sa15.wav\n",
              "2   neutral   DataSets/Savee/DC_n13.wav\n",
              "3  surprise  DataSets/Savee/DC_su09.wav\n",
              "4   neutral   DataSets/Savee/DC_n07.wav"
            ]
          },
          "execution_count": 26,
          "metadata": {},
          "output_type": "execute_result"
        }
      ],
      "source": [
        "SaveeDataFrame = pd.DataFrame(SaveeEmotion, columns=['Emotions'])\n",
        "SaveePathDataFrame = pd.DataFrame(SaveeFilePath, columns=['FilePath'])\n",
        "\n",
        "SaveeDataFrame = pd.concat([SaveeDataFrame, SaveePathDataFrame], axis=1)\n",
        "\n",
        "SaveeDataFrame.head()"
      ]
    },
    {
      "cell_type": "code",
      "execution_count": 27,
      "metadata": {},
      "outputs": [
        {
          "name": "stdout",
          "output_type": "stream",
          "text": [
            "Emotions\n",
            "neutral     120\n",
            "sad          60\n",
            "surprise     60\n",
            "fear         60\n",
            "disgust      60\n",
            "happy        60\n",
            "angry        60\n",
            "Name: count, dtype: int64\n"
          ]
        }
      ],
      "source": [
        "print(SaveeDataFrame.Emotions.value_counts())"
      ]
    },
    {
      "cell_type": "markdown",
      "metadata": {},
      "source": [
        "<h3>TESS</h3>"
      ]
    },
    {
      "cell_type": "markdown",
      "metadata": {},
      "source": [
        "<p>We downloaded the TESS dataset from this link <a href=\"https://tspace.library.utoronto.ca/handle/1807/24487\">TESS dataset</a></p>\n",
        "<p>We only considered the audio speech samples which consist of recordings of seven different emotions</p>\n",
        "<p>Data extraction of TESS as follows</p>"
      ]
    },
    {
      "cell_type": "code",
      "execution_count": 28,
      "metadata": {},
      "outputs": [
        {
          "name": "stdout",
          "output_type": "stream",
          "text": [
            "Got the TESS data directory\n"
          ]
        }
      ],
      "source": [
        "TessPath = dataSetDirectoryPath+ \"TESS\"\n",
        "TessDataFilesFolder = os.listdir(TessPath)\n",
        "print(\"Got the TESS data directory\")"
      ]
    },
    {
      "cell_type": "markdown",
      "metadata": {},
      "source": [
        "<h4>Data Manipulation for TESS data</h4>\n",
        "<p>We are creating a list to separate the file based on the emotions. Mapping the emotions with respective file path</p>\n",
        "<p>For the TESS audio files. each file contains an emotion the emotion can be captured using the file name</p>\n",
        "<p>Each has a specific emotion related files suppose \"OAF_angry\" is the folder name - the OAF represents the actor and \"angry\" represents the emotion</p>"
      ]
    },
    {
      "cell_type": "code",
      "execution_count": 29,
      "metadata": {},
      "outputs": [],
      "source": [
        "TessEmotion = []\n",
        "TessFilePath = []\n",
        "\n",
        "for dir in TessDataFilesFolder:\n",
        "    if not dir.startswith(\".\"):\n",
        "        TessDirect = os.listdir(TessPath+\"/\" + dir)\n",
        "        for eachFilePath in TessDirect:\n",
        "            splittedPartFile = eachFilePath.split('.')[0]\n",
        "            splittedPartFile = splittedPartFile.split('_')[2]\n",
        "            if splittedPartFile=='ps':\n",
        "                TessEmotion.append('surprise')\n",
        "            else:\n",
        "                TessEmotion.append(splittedPartFile)\n",
        "            TessFilePath.append(TessPath+\"/\" + dir + '/' + eachFilePath)"
      ]
    },
    {
      "cell_type": "code",
      "execution_count": 30,
      "metadata": {},
      "outputs": [
        {
          "data": {
            "text/html": [
              "<div>\n",
              "<style scoped>\n",
              "    .dataframe tbody tr th:only-of-type {\n",
              "        vertical-align: middle;\n",
              "    }\n",
              "\n",
              "    .dataframe tbody tr th {\n",
              "        vertical-align: top;\n",
              "    }\n",
              "\n",
              "    .dataframe thead th {\n",
              "        text-align: right;\n",
              "    }\n",
              "</style>\n",
              "<table border=\"1\" class=\"dataframe\">\n",
              "  <thead>\n",
              "    <tr style=\"text-align: right;\">\n",
              "      <th></th>\n",
              "      <th>Emotions</th>\n",
              "      <th>FilePath</th>\n",
              "    </tr>\n",
              "  </thead>\n",
              "  <tbody>\n",
              "    <tr>\n",
              "      <th>0</th>\n",
              "      <td>disgust</td>\n",
              "      <td>DataSets/TESS/YAF_disgust/YAF_date_disgust.wav</td>\n",
              "    </tr>\n",
              "    <tr>\n",
              "      <th>1</th>\n",
              "      <td>disgust</td>\n",
              "      <td>DataSets/TESS/YAF_disgust/YAF_rag_disgust.wav</td>\n",
              "    </tr>\n",
              "    <tr>\n",
              "      <th>2</th>\n",
              "      <td>disgust</td>\n",
              "      <td>DataSets/TESS/YAF_disgust/YAF_raise_disgust.wav</td>\n",
              "    </tr>\n",
              "    <tr>\n",
              "      <th>3</th>\n",
              "      <td>disgust</td>\n",
              "      <td>DataSets/TESS/YAF_disgust/YAF_ditch_disgust.wav</td>\n",
              "    </tr>\n",
              "    <tr>\n",
              "      <th>4</th>\n",
              "      <td>disgust</td>\n",
              "      <td>DataSets/TESS/YAF_disgust/YAF_door_disgust.wav</td>\n",
              "    </tr>\n",
              "  </tbody>\n",
              "</table>\n",
              "</div>"
            ],
            "text/plain": [
              "  Emotions                                         FilePath\n",
              "0  disgust   DataSets/TESS/YAF_disgust/YAF_date_disgust.wav\n",
              "1  disgust    DataSets/TESS/YAF_disgust/YAF_rag_disgust.wav\n",
              "2  disgust  DataSets/TESS/YAF_disgust/YAF_raise_disgust.wav\n",
              "3  disgust  DataSets/TESS/YAF_disgust/YAF_ditch_disgust.wav\n",
              "4  disgust   DataSets/TESS/YAF_disgust/YAF_door_disgust.wav"
            ]
          },
          "execution_count": 30,
          "metadata": {},
          "output_type": "execute_result"
        }
      ],
      "source": [
        "TessDataFrame = pd.DataFrame(TessEmotion, columns=['Emotions'])\n",
        "TessPathDataFrame = pd.DataFrame(TessFilePath, columns=['FilePath'])\n",
        "\n",
        "TessDataFrame = pd.concat([TessDataFrame, TessPathDataFrame], axis=1)\n",
        "\n",
        "TessDataFrame.head()"
      ]
    },
    {
      "cell_type": "code",
      "execution_count": 31,
      "metadata": {},
      "outputs": [
        {
          "name": "stdout",
          "output_type": "stream",
          "text": [
            "Emotions\n",
            "disgust     400\n",
            "surprise    400\n",
            "happy       400\n",
            "sad         400\n",
            "neutral     400\n",
            "fear        400\n",
            "angry       400\n",
            "Name: count, dtype: int64\n"
          ]
        }
      ],
      "source": [
        "print(TessDataFrame.Emotions.value_counts())"
      ]
    },
    {
      "cell_type": "code",
      "execution_count": 32,
      "metadata": {},
      "outputs": [
        {
          "data": {
            "text/html": [
              "<div>\n",
              "<style scoped>\n",
              "    .dataframe tbody tr th:only-of-type {\n",
              "        vertical-align: middle;\n",
              "    }\n",
              "\n",
              "    .dataframe tbody tr th {\n",
              "        vertical-align: top;\n",
              "    }\n",
              "\n",
              "    .dataframe thead th {\n",
              "        text-align: right;\n",
              "    }\n",
              "</style>\n",
              "<table border=\"1\" class=\"dataframe\">\n",
              "  <thead>\n",
              "    <tr style=\"text-align: right;\">\n",
              "      <th></th>\n",
              "      <th>Emotions</th>\n",
              "      <th>FilePath</th>\n",
              "    </tr>\n",
              "  </thead>\n",
              "  <tbody>\n",
              "    <tr>\n",
              "      <th>0</th>\n",
              "      <td>angry</td>\n",
              "      <td>DataSets/ravdess/Actor_16/03-01-05-01-02-01-16...</td>\n",
              "    </tr>\n",
              "    <tr>\n",
              "      <th>1</th>\n",
              "      <td>fear</td>\n",
              "      <td>DataSets/ravdess/Actor_16/03-01-06-01-02-02-16...</td>\n",
              "    </tr>\n",
              "    <tr>\n",
              "      <th>2</th>\n",
              "      <td>fear</td>\n",
              "      <td>DataSets/ravdess/Actor_16/03-01-06-02-01-02-16...</td>\n",
              "    </tr>\n",
              "    <tr>\n",
              "      <th>3</th>\n",
              "      <td>angry</td>\n",
              "      <td>DataSets/ravdess/Actor_16/03-01-05-02-01-01-16...</td>\n",
              "    </tr>\n",
              "    <tr>\n",
              "      <th>4</th>\n",
              "      <td>disgust</td>\n",
              "      <td>DataSets/ravdess/Actor_16/03-01-07-01-01-01-16...</td>\n",
              "    </tr>\n",
              "  </tbody>\n",
              "</table>\n",
              "</div>"
            ],
            "text/plain": [
              "  Emotions                                           FilePath\n",
              "0    angry  DataSets/ravdess/Actor_16/03-01-05-01-02-01-16...\n",
              "1     fear  DataSets/ravdess/Actor_16/03-01-06-01-02-02-16...\n",
              "2     fear  DataSets/ravdess/Actor_16/03-01-06-02-01-02-16...\n",
              "3    angry  DataSets/ravdess/Actor_16/03-01-05-02-01-01-16...\n",
              "4  disgust  DataSets/ravdess/Actor_16/03-01-07-01-01-01-16..."
            ]
          },
          "execution_count": 32,
          "metadata": {},
          "output_type": "execute_result"
        }
      ],
      "source": [
        "# merge both data sets\n",
        "mergedDataSet = pd.concat([RavdessDataFrame, CreamDDataFrame, SaveeDataFrame, TessDataFrame], axis = 0)\n",
        "mergedDataSet.to_csv(\"combinedData.csv\",index=False)\n",
        "mergedDataSet.head()"
      ]
    },
    {
      "cell_type": "code",
      "execution_count": 33,
      "metadata": {},
      "outputs": [
        {
          "data": {
            "text/html": [
              "<div>\n",
              "<style scoped>\n",
              "    .dataframe tbody tr th:only-of-type {\n",
              "        vertical-align: middle;\n",
              "    }\n",
              "\n",
              "    .dataframe tbody tr th {\n",
              "        vertical-align: top;\n",
              "    }\n",
              "\n",
              "    .dataframe thead th {\n",
              "        text-align: right;\n",
              "    }\n",
              "</style>\n",
              "<table border=\"1\" class=\"dataframe\">\n",
              "  <thead>\n",
              "    <tr style=\"text-align: right;\">\n",
              "      <th></th>\n",
              "      <th>Emotions</th>\n",
              "      <th>FilePath</th>\n",
              "    </tr>\n",
              "  </thead>\n",
              "  <tbody>\n",
              "    <tr>\n",
              "      <th>411</th>\n",
              "      <td>sad</td>\n",
              "      <td>DataSets/ravdess/Actor_10/03-01-04-02-01-02-10...</td>\n",
              "    </tr>\n",
              "    <tr>\n",
              "      <th>1310</th>\n",
              "      <td>disgust</td>\n",
              "      <td>DataSets/CREMA-D/1001_IWW_DIS_XX.wav</td>\n",
              "    </tr>\n",
              "    <tr>\n",
              "      <th>1379</th>\n",
              "      <td>sad</td>\n",
              "      <td>DataSets/CREMA-D/1050_IEO_SAD_HI.wav</td>\n",
              "    </tr>\n",
              "    <tr>\n",
              "      <th>5203</th>\n",
              "      <td>fear</td>\n",
              "      <td>DataSets/CREMA-D/1051_IOM_FEA_XX.wav</td>\n",
              "    </tr>\n",
              "    <tr>\n",
              "      <th>3707</th>\n",
              "      <td>neutral</td>\n",
              "      <td>DataSets/CREMA-D/1032_ITS_NEU_XX.wav</td>\n",
              "    </tr>\n",
              "  </tbody>\n",
              "</table>\n",
              "</div>"
            ],
            "text/plain": [
              "     Emotions                                           FilePath\n",
              "411       sad  DataSets/ravdess/Actor_10/03-01-04-02-01-02-10...\n",
              "1310  disgust               DataSets/CREMA-D/1001_IWW_DIS_XX.wav\n",
              "1379      sad               DataSets/CREMA-D/1050_IEO_SAD_HI.wav\n",
              "5203     fear               DataSets/CREMA-D/1051_IOM_FEA_XX.wav\n",
              "3707  neutral               DataSets/CREMA-D/1032_ITS_NEU_XX.wav"
            ]
          },
          "execution_count": 33,
          "metadata": {},
          "output_type": "execute_result"
        }
      ],
      "source": [
        "# Shuffling the data\n",
        "mergedDataSet = mergedDataSet.sample(frac = 1)\n",
        "mergedDataSet.head()"
      ]
    },
    {
      "cell_type": "code",
      "execution_count": 34,
      "metadata": {},
      "outputs": [
        {
          "data": {
            "image/png": "[encoded data removed]",
            "text/plain": [
              "<Figure size 640x480 with 1 Axes>"
            ]
          },
          "metadata": {},
          "output_type": "display_data"
        }
      ],
      "source": [
        "import matplotlib.pyplot as plt\n",
        "import seaborn as sns\n",
        "\n",
        "plt.title('Emotions List')\n",
        "sns.countplot(x=mergedDataSet[\"Emotions\"])\n",
        "plt.ylabel('Data Counts')\n",
        "plt.xlabel('Available Emotions')\n",
        "sns.despine()\n",
        "plt.show()"
      ]
    },
    {
      "cell_type": "code",
      "execution_count": 35,
      "metadata": {},
      "outputs": [
        {
          "data": {
            "text/html": [
              "<div>\n",
              "<style scoped>\n",
              "    .dataframe tbody tr th:only-of-type {\n",
              "        vertical-align: middle;\n",
              "    }\n",
              "\n",
              "    .dataframe tbody tr th {\n",
              "        vertical-align: top;\n",
              "    }\n",
              "\n",
              "    .dataframe thead th {\n",
              "        text-align: right;\n",
              "    }\n",
              "</style>\n",
              "<table border=\"1\" class=\"dataframe\">\n",
              "  <thead>\n",
              "    <tr style=\"text-align: right;\">\n",
              "      <th></th>\n",
              "      <th>Emotions</th>\n",
              "      <th>FilePath</th>\n",
              "    </tr>\n",
              "  </thead>\n",
              "  <tbody>\n",
              "    <tr>\n",
              "      <th>411</th>\n",
              "      <td>sad</td>\n",
              "      <td>DataSets/ravdess/Actor_10/03-01-04-02-01-02-10...</td>\n",
              "    </tr>\n",
              "    <tr>\n",
              "      <th>1310</th>\n",
              "      <td>disgust</td>\n",
              "      <td>DataSets/CREMA-D/1001_IWW_DIS_XX.wav</td>\n",
              "    </tr>\n",
              "    <tr>\n",
              "      <th>1379</th>\n",
              "      <td>sad</td>\n",
              "      <td>DataSets/CREMA-D/1050_IEO_SAD_HI.wav</td>\n",
              "    </tr>\n",
              "    <tr>\n",
              "      <th>5203</th>\n",
              "      <td>fear</td>\n",
              "      <td>DataSets/CREMA-D/1051_IOM_FEA_XX.wav</td>\n",
              "    </tr>\n",
              "    <tr>\n",
              "      <th>3707</th>\n",
              "      <td>neutral</td>\n",
              "      <td>DataSets/CREMA-D/1032_ITS_NEU_XX.wav</td>\n",
              "    </tr>\n",
              "    <tr>\n",
              "      <th>...</th>\n",
              "      <td>...</td>\n",
              "      <td>...</td>\n",
              "    </tr>\n",
              "    <tr>\n",
              "      <th>569</th>\n",
              "      <td>happy</td>\n",
              "      <td>DataSets/TESS/OAF_happy/OAF_rain_happy.wav</td>\n",
              "    </tr>\n",
              "    <tr>\n",
              "      <th>535</th>\n",
              "      <td>angry</td>\n",
              "      <td>DataSets/ravdess/Actor_04/03-01-05-02-02-01-04...</td>\n",
              "    </tr>\n",
              "    <tr>\n",
              "      <th>4304</th>\n",
              "      <td>angry</td>\n",
              "      <td>DataSets/CREMA-D/1091_MTI_ANG_XX.wav</td>\n",
              "    </tr>\n",
              "    <tr>\n",
              "      <th>4652</th>\n",
              "      <td>fear</td>\n",
              "      <td>DataSets/CREMA-D/1071_MTI_FEA_XX.wav</td>\n",
              "    </tr>\n",
              "    <tr>\n",
              "      <th>3964</th>\n",
              "      <td>fear</td>\n",
              "      <td>DataSets/CREMA-D/1062_WSI_FEA_XX.wav</td>\n",
              "    </tr>\n",
              "  </tbody>\n",
              "</table>\n",
              "<p>12162 rows × 2 columns</p>\n",
              "</div>"
            ],
            "text/plain": [
              "     Emotions                                           FilePath\n",
              "411       sad  DataSets/ravdess/Actor_10/03-01-04-02-01-02-10...\n",
              "1310  disgust               DataSets/CREMA-D/1001_IWW_DIS_XX.wav\n",
              "1379      sad               DataSets/CREMA-D/1050_IEO_SAD_HI.wav\n",
              "5203     fear               DataSets/CREMA-D/1051_IOM_FEA_XX.wav\n",
              "3707  neutral               DataSets/CREMA-D/1032_ITS_NEU_XX.wav\n",
              "...       ...                                                ...\n",
              "569     happy         DataSets/TESS/OAF_happy/OAF_rain_happy.wav\n",
              "535     angry  DataSets/ravdess/Actor_04/03-01-05-02-02-01-04...\n",
              "4304    angry               DataSets/CREMA-D/1091_MTI_ANG_XX.wav\n",
              "4652     fear               DataSets/CREMA-D/1071_MTI_FEA_XX.wav\n",
              "3964     fear               DataSets/CREMA-D/1062_WSI_FEA_XX.wav\n",
              "\n",
              "[12162 rows x 2 columns]"
            ]
          },
          "execution_count": 35,
          "metadata": {},
          "output_type": "execute_result"
        }
      ],
      "source": [
        "mergedDataSet"
      ]
    },
    {
      "cell_type": "code",
      "execution_count": null,
      "metadata": {},
      "outputs": [],
      "source": []
    },
    {
      "cell_type": "code",
      "execution_count": null,
      "metadata": {},
      "outputs": [],
      "source": []
    }
  ],
  "metadata": {
    "colab": {
      "provenance": []
    },
    "kernelspec": {
      "display_name": "Python 3",
      "language": "python",
      "name": "python3"
    },
    "language_info": {
      "codemirror_mode": {
        "name": "ipython",
        "version": 3
      },
      "file_extension": ".py",
      "mimetype": "text/x-python",
      "name": "python",
      "nbconvert_exporter": "python",
      "pygments_lexer": "ipython3",
      "version": "3.11.1 (v3.11.1:a7a450f84a, Dec  6 2022, 15:24:06) [Clang 13.0.0 (clang-1300.0.29.30)]"
    },
    "vscode": {
      "interpreter": {
        "hash": "aee8b7b246df8f9039afb4144a1f6fd8d2ca17a180786b69acc140d282b71a49"
      }
    }
  },
  "nbformat": 4,
  "nbformat_minor": 0
}
